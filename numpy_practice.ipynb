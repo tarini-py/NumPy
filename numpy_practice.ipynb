{
 "cells": [
  {
   "cell_type": "code",
   "execution_count": 1,
   "id": "c227ad92-23dd-41e2-8644-3d7119e23a96",
   "metadata": {},
   "outputs": [],
   "source": [
    "import numpy as np"
   ]
  },
  {
   "cell_type": "code",
   "execution_count": 2,
   "id": "96888e74-7d07-419d-adbf-470ac3f5e8a3",
   "metadata": {},
   "outputs": [],
   "source": [
    "a=np.array([32,4,2])\n",
    "b=np.array([[34,24,5],[42,4,25]])"
   ]
  },
  {
   "cell_type": "code",
   "execution_count": 3,
   "id": "6d025805-b535-4ab3-8e15-cffa96e063c2",
   "metadata": {
    "panel-layout": {
     "height": -0.004006385803222656,
     "visible": true,
     "width": 100
    }
   },
   "outputs": [
    {
     "name": "stdout",
     "output_type": "stream",
     "text": [
      "[32  4  2]\n",
      "1\n",
      "(3,)\n",
      "[[34 24  5]\n",
      " [42  4 25]]\n",
      "2\n",
      "(2, 3)\n"
     ]
    }
   ],
   "source": [
    "print(a)\n",
    "print(a.ndim)\n",
    "print(a.shape)\n",
    "\n",
    "print(b)\n",
    "print(b.ndim)\n",
    "print(b.shape)"
   ]
  },
  {
   "cell_type": "code",
   "execution_count": 7,
   "id": "cc62d785-091b-46fa-b0c7-d4b3c4eed3fa",
   "metadata": {
    "panel-layout": {
     "height": -0.004006385803222656,
     "visible": true,
     "width": 100
    }
   },
   "outputs": [
    {
     "name": "stdout",
     "output_type": "stream",
     "text": [
      "[[[ 1  2  3]\n",
      "  [ 4  5  6]\n",
      "  [64  3 45]]]\n",
      "3\n",
      "(1, 3, 3)\n"
     ]
    }
   ],
   "source": [
    "c=np.array([[[1,2,3],[4,5,6],[64,3,45]]])\n",
    "print(c)\n",
    "print(c.ndim)\n",
    "print(c.shape)"
   ]
  },
  {
   "cell_type": "code",
   "execution_count": 8,
   "id": "62386826-54a0-421d-b4a8-2ddad1fa361e",
   "metadata": {
    "panel-layout": {
     "height": -0.004006385803222656,
     "visible": true,
     "width": 100
    }
   },
   "outputs": [
    {
     "name": "stdout",
     "output_type": "stream",
     "text": [
      "<class 'numpy.ndarray'>\n",
      "<class 'numpy.ndarray'>\n",
      "<class 'numpy.ndarray'>\n"
     ]
    }
   ],
   "source": [
    "print(type(a))\n",
    "print(type(b))\n",
    "print(type(c))"
   ]
  },
  {
   "cell_type": "code",
   "execution_count": 10,
   "id": "ff84e873-ebd7-4e71-816b-18f4be672be8",
   "metadata": {
    "panel-layout": {
     "height": -0.004006385803222656,
     "visible": true,
     "width": 100
    }
   },
   "outputs": [
    {
     "name": "stdout",
     "output_type": "stream",
     "text": [
      "[0 1 2 3 4]\n"
     ]
    }
   ],
   "source": [
    "d=np.arange(5)\n",
    "print(d)"
   ]
  },
  {
   "cell_type": "code",
   "execution_count": 12,
   "id": "3fa1a12f-05ce-44fa-ae79-c20c25a2b731",
   "metadata": {
    "panel-layout": {
     "height": -0.004006385803222656,
     "visible": true,
     "width": 100
    }
   },
   "outputs": [
    {
     "name": "stdout",
     "output_type": "stream",
     "text": [
      "[[0 1 2 3 4]\n",
      " [0 1 2 3 4]]\n"
     ]
    }
   ],
   "source": [
    "d=np.array([np.arange(5),np.arange(5)])\n",
    "print(d)"
   ]
  },
  {
   "cell_type": "code",
   "execution_count": 16,
   "id": "e0dc3549-e814-45a9-b182-2f4aad0c6a73",
   "metadata": {},
   "outputs": [],
   "source": [
    "a.sort()"
   ]
  },
  {
   "cell_type": "code",
   "execution_count": 17,
   "id": "05940a34-6d44-4b2d-9314-f9107ed823a1",
   "metadata": {},
   "outputs": [
    {
     "data": {
      "text/plain": [
       "array([ 2,  4, 32])"
      ]
     },
     "execution_count": 17,
     "metadata": {},
     "output_type": "execute_result"
    }
   ],
   "source": [
    "a"
   ]
  },
  {
   "cell_type": "code",
   "execution_count": 18,
   "id": "c666bc55-3193-4458-be6c-62a77f8aa85f",
   "metadata": {},
   "outputs": [
    {
     "data": {
      "text/plain": [
       "array([[34, 24,  5],\n",
       "       [42,  4, 25]])"
      ]
     },
     "execution_count": 18,
     "metadata": {},
     "output_type": "execute_result"
    }
   ],
   "source": [
    "b"
   ]
  },
  {
   "cell_type": "code",
   "execution_count": 19,
   "id": "97ea479f-bee0-43eb-a103-52fddabf5f46",
   "metadata": {},
   "outputs": [],
   "source": [
    "b.sort()"
   ]
  },
  {
   "cell_type": "code",
   "execution_count": 20,
   "id": "331c949c-adf2-42fb-85ef-83bdde7178d9",
   "metadata": {},
   "outputs": [
    {
     "data": {
      "text/plain": [
       "array([[ 5, 24, 34],\n",
       "       [ 4, 25, 42]])"
      ]
     },
     "execution_count": 20,
     "metadata": {},
     "output_type": "execute_result"
    }
   ],
   "source": [
    "b"
   ]
  },
  {
   "cell_type": "code",
   "execution_count": 22,
   "id": "7de97779-3ed1-4e53-8e4c-1f9ddabe12b0",
   "metadata": {},
   "outputs": [
    {
     "data": {
      "text/plain": [
       "24"
      ]
     },
     "execution_count": 22,
     "metadata": {},
     "output_type": "execute_result"
    }
   ],
   "source": [
    "b[0][1]"
   ]
  },
  {
   "cell_type": "code",
   "execution_count": 23,
   "id": "9995eb45-200c-419c-b753-b19f421c2fbc",
   "metadata": {},
   "outputs": [
    {
     "data": {
      "text/plain": [
       "dtype('int32')"
      ]
     },
     "execution_count": 23,
     "metadata": {},
     "output_type": "execute_result"
    }
   ],
   "source": [
    "a.dtype"
   ]
  },
  {
   "cell_type": "code",
   "execution_count": 24,
   "id": "e382a94a-be1c-4d73-8a26-e015fbb67e78",
   "metadata": {},
   "outputs": [
    {
     "data": {
      "text/plain": [
       "4"
      ]
     },
     "execution_count": 24,
     "metadata": {},
     "output_type": "execute_result"
    }
   ],
   "source": [
    "a.itemsize # how many bites"
   ]
  },
  {
   "cell_type": "code",
   "execution_count": 25,
   "id": "5616bdaa-2710-469e-b6e3-6b21cc3d0bd0",
   "metadata": {},
   "outputs": [
    {
     "data": {
      "text/plain": [
       "3"
      ]
     },
     "execution_count": 25,
     "metadata": {},
     "output_type": "execute_result"
    }
   ],
   "source": [
    "a.size # size i.e. total elements"
   ]
  },
  {
   "cell_type": "code",
   "execution_count": 26,
   "id": "91dc7b0b-3ab3-4aa1-9ca8-5cffb34d33be",
   "metadata": {},
   "outputs": [
    {
     "data": {
      "text/plain": [
       "array([ 2,  4, 32])"
      ]
     },
     "execution_count": 26,
     "metadata": {},
     "output_type": "execute_result"
    }
   ],
   "source": [
    "a"
   ]
  },
  {
   "cell_type": "code",
   "execution_count": 27,
   "id": "3a5c7de5-5f28-4f80-9bc4-1aa9c2ad96eb",
   "metadata": {},
   "outputs": [
    {
     "data": {
      "text/plain": [
       "6"
      ]
     },
     "execution_count": 27,
     "metadata": {},
     "output_type": "execute_result"
    }
   ],
   "source": [
    "b.size"
   ]
  },
  {
   "cell_type": "code",
   "execution_count": 28,
   "id": "7d9db656-f9bb-458f-9c6b-e773543a86bf",
   "metadata": {},
   "outputs": [
    {
     "data": {
      "text/plain": [
       "array([[ 5, 24, 34],\n",
       "       [ 4, 25, 42]])"
      ]
     },
     "execution_count": 28,
     "metadata": {},
     "output_type": "execute_result"
    }
   ],
   "source": [
    "b"
   ]
  },
  {
   "cell_type": "code",
   "execution_count": 29,
   "id": "10a7e46a-aa38-4eeb-8623-a616cdf34b62",
   "metadata": {},
   "outputs": [
    {
     "data": {
      "text/plain": [
       "4"
      ]
     },
     "execution_count": 29,
     "metadata": {},
     "output_type": "execute_result"
    }
   ],
   "source": [
    "b.itemsize"
   ]
  },
  {
   "cell_type": "code",
   "execution_count": 30,
   "id": "281f496a-00c4-4955-b15c-b2c35f060dcf",
   "metadata": {},
   "outputs": [
    {
     "data": {
      "text/plain": [
       "12"
      ]
     },
     "execution_count": 30,
     "metadata": {},
     "output_type": "execute_result"
    }
   ],
   "source": [
    "a.nbytes #total memory space = a.size * a.itemsize"
   ]
  },
  {
   "cell_type": "code",
   "execution_count": 31,
   "id": "81d72a58-f710-4bfe-9fe5-f4ebefeb8f52",
   "metadata": {},
   "outputs": [
    {
     "data": {
      "text/plain": [
       "24"
      ]
     },
     "execution_count": 31,
     "metadata": {},
     "output_type": "execute_result"
    }
   ],
   "source": [
    "b.nbytes"
   ]
  },
  {
   "cell_type": "code",
   "execution_count": 35,
   "id": "31023d09-880a-42f6-b871-816134c3bcdd",
   "metadata": {},
   "outputs": [
    {
     "data": {
      "text/plain": [
       "(array([ 2,  4, 32]),\n",
       " array([[ 5, 24, 34],\n",
       "        [ 4, 25, 42]]))"
      ]
     },
     "execution_count": 35,
     "metadata": {},
     "output_type": "execute_result"
    }
   ],
   "source": [
    "a,b"
   ]
  },
  {
   "cell_type": "code",
   "execution_count": 36,
   "id": "649cea0a-2db3-432f-ab2d-68c422bb01bf",
   "metadata": {},
   "outputs": [
    {
     "data": {
      "text/plain": [
       "array([2, 4, 5])"
      ]
     },
     "execution_count": 36,
     "metadata": {},
     "output_type": "execute_result"
    }
   ],
   "source": [
    "a[2]=5\n",
    "a"
   ]
  },
  {
   "cell_type": "code",
   "execution_count": 37,
   "id": "82acb983-4d1d-4a9d-9094-9f2fb1463c10",
   "metadata": {},
   "outputs": [
    {
     "data": {
      "text/plain": [
       "array([[ 5, 24, 34],\n",
       "       [90, 25, 42]])"
      ]
     },
     "execution_count": 37,
     "metadata": {},
     "output_type": "execute_result"
    }
   ],
   "source": [
    "b[1][0]=90\n",
    "b"
   ]
  },
  {
   "cell_type": "code",
   "execution_count": 38,
   "id": "3aa870fa-a778-4d1e-85dc-667c629f013b",
   "metadata": {},
   "outputs": [
    {
     "data": {
      "text/plain": [
       "90"
      ]
     },
     "execution_count": 38,
     "metadata": {},
     "output_type": "execute_result"
    }
   ],
   "source": [
    "b[1,0]"
   ]
  },
  {
   "cell_type": "code",
   "execution_count": 39,
   "id": "39720d92-2726-4652-bc4f-2643d76b12b7",
   "metadata": {},
   "outputs": [],
   "source": [
    "b[1,0]=100"
   ]
  },
  {
   "cell_type": "code",
   "execution_count": 40,
   "id": "4f4778de-fc50-42be-b07b-5ef0805a83c6",
   "metadata": {},
   "outputs": [
    {
     "data": {
      "text/plain": [
       "array([[  5,  24,  34],\n",
       "       [100,  25,  42]])"
      ]
     },
     "execution_count": 40,
     "metadata": {},
     "output_type": "execute_result"
    }
   ],
   "source": [
    "b"
   ]
  },
  {
   "cell_type": "code",
   "execution_count": 43,
   "id": "5320676a-eec2-4764-bd92-d20d22af75b5",
   "metadata": {},
   "outputs": [
    {
     "data": {
      "text/plain": [
       "24"
      ]
     },
     "execution_count": 43,
     "metadata": {},
     "output_type": "execute_result"
    }
   ],
   "source": [
    "b[-2,-2]"
   ]
  },
  {
   "cell_type": "code",
   "execution_count": 44,
   "id": "2a5e430f-f982-4c53-ae0a-abfd6c539c77",
   "metadata": {},
   "outputs": [
    {
     "data": {
      "text/plain": [
       "array([ 5, 24, 34])"
      ]
     },
     "execution_count": 44,
     "metadata": {},
     "output_type": "execute_result"
    }
   ],
   "source": [
    "b[0,]"
   ]
  },
  {
   "cell_type": "code",
   "execution_count": 45,
   "id": "3b7d056d-f80f-42f2-a949-55c5bec0ccb5",
   "metadata": {},
   "outputs": [
    {
     "data": {
      "text/plain": [
       "array([ 5, 24, 34])"
      ]
     },
     "execution_count": 45,
     "metadata": {},
     "output_type": "execute_result"
    }
   ],
   "source": [
    "b[0]"
   ]
  },
  {
   "cell_type": "code",
   "execution_count": 48,
   "id": "971684fb-f718-4267-b654-59ac6caff872",
   "metadata": {},
   "outputs": [
    {
     "data": {
      "text/plain": [
       "array([[25, 42]])"
      ]
     },
     "execution_count": 48,
     "metadata": {},
     "output_type": "execute_result"
    }
   ],
   "source": [
    "b[1:,1:]"
   ]
  },
  {
   "cell_type": "code",
   "execution_count": 49,
   "id": "65e85480-3829-4bc3-b1a0-5ded1fe9bce8",
   "metadata": {},
   "outputs": [
    {
     "data": {
      "text/plain": [
       "array([[100,  25,  42]])"
      ]
     },
     "execution_count": 49,
     "metadata": {},
     "output_type": "execute_result"
    }
   ],
   "source": [
    "b[1:,]"
   ]
  },
  {
   "cell_type": "code",
   "execution_count": 54,
   "id": "320f536b-3d50-4915-8153-30c043ce6230",
   "metadata": {},
   "outputs": [
    {
     "data": {
      "text/plain": [
       "array([[24, 34],\n",
       "       [25, 42]])"
      ]
     },
     "execution_count": 54,
     "metadata": {},
     "output_type": "execute_result"
    }
   ],
   "source": [
    "b[:,1:]"
   ]
  },
  {
   "cell_type": "code",
   "execution_count": 53,
   "id": "685cc711-3fbf-4fd4-8fdb-f034d0e445ef",
   "metadata": {},
   "outputs": [
    {
     "data": {
      "text/plain": [
       "array([[  5,  24,  34],\n",
       "       [100,  25,  42]])"
      ]
     },
     "execution_count": 53,
     "metadata": {},
     "output_type": "execute_result"
    }
   ],
   "source": [
    "b"
   ]
  },
  {
   "cell_type": "code",
   "execution_count": 56,
   "id": "acc47701-d87b-4c1a-9ddc-7490275e2deb",
   "metadata": {},
   "outputs": [
    {
     "data": {
      "text/plain": [
       "array([[ 5, 24, 34]])"
      ]
     },
     "execution_count": 56,
     "metadata": {},
     "output_type": "execute_result"
    }
   ],
   "source": [
    "b[::2,:]"
   ]
  },
  {
   "cell_type": "code",
   "execution_count": 57,
   "id": "4b77a353-290a-478e-b76d-af54fb6b1c59",
   "metadata": {},
   "outputs": [
    {
     "data": {
      "text/plain": [
       "array([[  5,  34],\n",
       "       [100,  42]])"
      ]
     },
     "execution_count": 57,
     "metadata": {},
     "output_type": "execute_result"
    }
   ],
   "source": [
    "b[:,::2]"
   ]
  },
  {
   "cell_type": "code",
   "execution_count": 58,
   "id": "6d99ea27-64b8-4297-a162-da605fdc794e",
   "metadata": {},
   "outputs": [
    {
     "data": {
      "text/plain": [
       "array([[  5,  24,  34],\n",
       "       [100,  25,  42]])"
      ]
     },
     "execution_count": 58,
     "metadata": {},
     "output_type": "execute_result"
    }
   ],
   "source": [
    "b"
   ]
  },
  {
   "cell_type": "code",
   "execution_count": 60,
   "id": "853cc696-93fa-4d91-a5ed-86a4bbb1a775",
   "metadata": {},
   "outputs": [
    {
     "data": {
      "text/plain": [
       "array([[  5,  88,  34],\n",
       "       [100,  77,  42]])"
      ]
     },
     "execution_count": 60,
     "metadata": {},
     "output_type": "execute_result"
    }
   ],
   "source": [
    "b[:,1]=[88,77]\n",
    "b"
   ]
  },
  {
   "cell_type": "code",
   "execution_count": 61,
   "id": "bc57ba98-e2e1-476f-8a1b-7d1358375673",
   "metadata": {},
   "outputs": [
    {
     "data": {
      "text/plain": [
       "array([[  5,   1,   2],\n",
       "       [100,   3,   4]])"
      ]
     },
     "execution_count": 61,
     "metadata": {},
     "output_type": "execute_result"
    }
   ],
   "source": [
    "b[:,1:]=[[1,2],[3,4]]\n",
    "b"
   ]
  },
  {
   "cell_type": "code",
   "execution_count": 66,
   "id": "4acf24cf-5dc1-4671-a3d1-f1031918d734",
   "metadata": {},
   "outputs": [
    {
     "name": "stdout",
     "output_type": "stream",
     "text": [
      "[[[ 1  2]\n",
      "  [ 3  4]\n",
      "  [ 5  6]]\n",
      "\n",
      " [[ 7  8]\n",
      "  [ 9 10]\n",
      "  [11 12]]]\n",
      "3\n",
      "(2, 3, 2)\n",
      "4\n",
      "12\n",
      "48\n"
     ]
    }
   ],
   "source": [
    "c=np.array([[[1,2],[3,4],[5,6]],[[7,8],[9,10],[11,12]]])\n",
    "print(c)\n",
    "print(c.ndim)\n",
    "print(c.shape)\n",
    "print(c.itemsize)\n",
    "print(c.size)\n",
    "print(c.nbytes)"
   ]
  },
  {
   "cell_type": "code",
   "execution_count": 67,
   "id": "5a9af39d-8d36-49bd-9053-45b56eda1718",
   "metadata": {},
   "outputs": [
    {
     "data": {
      "text/plain": [
       "4"
      ]
     },
     "execution_count": 67,
     "metadata": {},
     "output_type": "execute_result"
    }
   ],
   "source": [
    "c[0,1,1]"
   ]
  },
  {
   "cell_type": "code",
   "execution_count": 75,
   "id": "28267f73-05ff-47dd-a3b9-a9fe42380443",
   "metadata": {},
   "outputs": [
    {
     "name": "stdout",
     "output_type": "stream",
     "text": [
      "[0. 0. 0. 0. 0.]\n"
     ]
    },
    {
     "data": {
      "text/plain": [
       "array([[[0., 0., 0.],\n",
       "        [0., 0., 0.],\n",
       "        [0., 0., 0.],\n",
       "        [0., 0., 0.]],\n",
       "\n",
       "       [[0., 0., 0.],\n",
       "        [0., 0., 0.],\n",
       "        [0., 0., 0.],\n",
       "        [0., 0., 0.]]])"
      ]
     },
     "execution_count": 75,
     "metadata": {},
     "output_type": "execute_result"
    }
   ],
   "source": [
    "z=np.zeros(5)\n",
    "print(z)\n",
    "z=np.zeros((2,4,3))\n",
    "z"
   ]
  },
  {
   "cell_type": "code",
   "execution_count": 77,
   "id": "67888d8e-af95-447a-833a-1826f90ead00",
   "metadata": {},
   "outputs": [
    {
     "name": "stdout",
     "output_type": "stream",
     "text": [
      "[1. 1. 1. 1. 1. 1.]\n"
     ]
    },
    {
     "data": {
      "text/plain": [
       "array([[[1., 1., 1., 1., 1., 1., 1., 1.],\n",
       "        [1., 1., 1., 1., 1., 1., 1., 1.],\n",
       "        [1., 1., 1., 1., 1., 1., 1., 1.],\n",
       "        [1., 1., 1., 1., 1., 1., 1., 1.]],\n",
       "\n",
       "       [[1., 1., 1., 1., 1., 1., 1., 1.],\n",
       "        [1., 1., 1., 1., 1., 1., 1., 1.],\n",
       "        [1., 1., 1., 1., 1., 1., 1., 1.],\n",
       "        [1., 1., 1., 1., 1., 1., 1., 1.]]])"
      ]
     },
     "execution_count": 77,
     "metadata": {},
     "output_type": "execute_result"
    }
   ],
   "source": [
    "o=np.ones(6)\n",
    "print(o)\n",
    "o=np.ones((2,4,8))\n",
    "o"
   ]
  },
  {
   "cell_type": "code",
   "execution_count": 78,
   "id": "7b58ebed-1c56-4f20-9999-b8885424742c",
   "metadata": {},
   "outputs": [
    {
     "data": {
      "text/plain": [
       "array([[[9, 9, 9, 9],\n",
       "        [9, 9, 9, 9],\n",
       "        [9, 9, 9, 9]],\n",
       "\n",
       "       [[9, 9, 9, 9],\n",
       "        [9, 9, 9, 9],\n",
       "        [9, 9, 9, 9]]])"
      ]
     },
     "execution_count": 78,
     "metadata": {},
     "output_type": "execute_result"
    }
   ],
   "source": [
    "f=np.full((2,3,4),9)\n",
    "f"
   ]
  },
  {
   "cell_type": "code",
   "execution_count": 79,
   "id": "c6ccf472-a4db-4caf-8ad6-01406ebecf0b",
   "metadata": {},
   "outputs": [
    {
     "data": {
      "text/plain": [
       "array([[[21., 21., 21., 21., 21., 21., 21., 21.],\n",
       "        [21., 21., 21., 21., 21., 21., 21., 21.],\n",
       "        [21., 21., 21., 21., 21., 21., 21., 21.],\n",
       "        [21., 21., 21., 21., 21., 21., 21., 21.]],\n",
       "\n",
       "       [[21., 21., 21., 21., 21., 21., 21., 21.],\n",
       "        [21., 21., 21., 21., 21., 21., 21., 21.],\n",
       "        [21., 21., 21., 21., 21., 21., 21., 21.],\n",
       "        [21., 21., 21., 21., 21., 21., 21., 21.]]])"
      ]
     },
     "execution_count": 79,
     "metadata": {},
     "output_type": "execute_result"
    }
   ],
   "source": [
    "np.full_like(o,21)"
   ]
  },
  {
   "cell_type": "code",
   "execution_count": 80,
   "id": "279e8878-9bcf-40d0-a960-94a930557b22",
   "metadata": {},
   "outputs": [
    {
     "data": {
      "text/plain": [
       "array([[[0.84780042, 0.64731938, 0.98679701, 0.95697493],\n",
       "        [0.8534913 , 0.92904526, 0.49079905, 0.62113617],\n",
       "        [0.41391846, 0.29331553, 0.8525843 , 0.17244445]],\n",
       "\n",
       "       [[0.33013703, 0.1204273 , 0.14815668, 0.27705986],\n",
       "        [0.42603026, 0.81829307, 0.24532318, 0.2626094 ],\n",
       "        [0.1777843 , 0.87326515, 0.7599163 , 0.84271946]]])"
      ]
     },
     "execution_count": 80,
     "metadata": {},
     "output_type": "execute_result"
    }
   ],
   "source": [
    "np.random.rand(2,3,4)"
   ]
  },
  {
   "cell_type": "code",
   "execution_count": 81,
   "id": "c8e7bf90-c0c4-46b5-b68a-4c0662521696",
   "metadata": {},
   "outputs": [
    {
     "data": {
      "text/plain": [
       "array([[[0.16015845, 0.17364394, 0.54568764, 0.79959901],\n",
       "        [0.3845351 , 0.98335687, 0.3733714 , 0.67236895],\n",
       "        [0.100178  , 0.49451978, 0.0036282 , 0.28971476]],\n",
       "\n",
       "       [[0.96247219, 0.73284691, 0.01441771, 0.8066317 ],\n",
       "        [0.23318889, 0.10714241, 0.60295737, 0.95570559],\n",
       "        [0.61017299, 0.95713061, 0.13342752, 0.40868706]]])"
      ]
     },
     "execution_count": 81,
     "metadata": {},
     "output_type": "execute_result"
    }
   ],
   "source": [
    "np.random.random_sample(f.shape)"
   ]
  },
  {
   "cell_type": "code",
   "execution_count": 88,
   "id": "a82c7f79-1350-49e2-97e8-1f7156eefd33",
   "metadata": {},
   "outputs": [
    {
     "data": {
      "text/plain": [
       "array([[[3, 3, 4, 6],\n",
       "        [4, 3, 5, 7],\n",
       "        [5, 6, 7, 5]],\n",
       "\n",
       "       [[5, 7, 7, 3],\n",
       "        [6, 5, 3, 4],\n",
       "        [6, 3, 6, 4]]])"
      ]
     },
     "execution_count": 88,
     "metadata": {},
     "output_type": "execute_result"
    }
   ],
   "source": [
    "np.random.randint(3,8,size=(2,3,4))"
   ]
  },
  {
   "cell_type": "code",
   "execution_count": 99,
   "id": "cb41ff1c-d63b-4c9c-9466-49ddd1345c8e",
   "metadata": {},
   "outputs": [
    {
     "data": {
      "text/plain": [
       "array([[1., 0., 0., 0., 0.],\n",
       "       [0., 1., 0., 0., 0.],\n",
       "       [0., 0., 1., 0., 0.],\n",
       "       [0., 0., 0., 1., 0.],\n",
       "       [0., 0., 0., 0., 1.]])"
      ]
     },
     "execution_count": 99,
     "metadata": {},
     "output_type": "execute_result"
    }
   ],
   "source": [
    "np.eye(5)"
   ]
  },
  {
   "cell_type": "code",
   "execution_count": 100,
   "id": "a2bf0ec1-b85a-4400-ac6f-5ed34ba05bf9",
   "metadata": {},
   "outputs": [
    {
     "data": {
      "text/plain": [
       "array([[1., 0., 0., 0., 0., 0.],\n",
       "       [0., 1., 0., 0., 0., 0.],\n",
       "       [0., 0., 1., 0., 0., 0.]])"
      ]
     },
     "execution_count": 100,
     "metadata": {},
     "output_type": "execute_result"
    }
   ],
   "source": [
    "np.eye(3,6)"
   ]
  },
  {
   "cell_type": "code",
   "execution_count": 101,
   "id": "8d6c6957-c898-42bd-8543-f9b3028cd52f",
   "metadata": {},
   "outputs": [
    {
     "data": {
      "text/plain": [
       "array([[1., 0., 0., 0., 0.],\n",
       "       [0., 1., 0., 0., 0.],\n",
       "       [0., 0., 1., 0., 0.],\n",
       "       [0., 0., 0., 1., 0.],\n",
       "       [0., 0., 0., 0., 1.]])"
      ]
     },
     "execution_count": 101,
     "metadata": {},
     "output_type": "execute_result"
    }
   ],
   "source": [
    "np.identity(5)"
   ]
  },
  {
   "cell_type": "code",
   "execution_count": 106,
   "id": "7851c0a8-d43d-4980-bd73-02b4c9cd612e",
   "metadata": {},
   "outputs": [
    {
     "name": "stdout",
     "output_type": "stream",
     "text": [
      "[[1 2 3]\n",
      " [4 5 6]]\n"
     ]
    },
    {
     "data": {
      "text/plain": [
       "array([[1, 2, 3],\n",
       "       [1, 2, 3],\n",
       "       [1, 2, 3],\n",
       "       [4, 5, 6],\n",
       "       [4, 5, 6],\n",
       "       [4, 5, 6]])"
      ]
     },
     "execution_count": 106,
     "metadata": {},
     "output_type": "execute_result"
    }
   ],
   "source": [
    "arr=np.array([[1,2,3],[4,5,6]])\n",
    "print(arr)\n",
    "\n",
    "r1=np.repeat(arr,3,axis=0)\n",
    "r1"
   ]
  },
  {
   "cell_type": "code",
   "execution_count": 107,
   "id": "d9c5d94c-0f05-4e92-9902-25fc27cb1eb7",
   "metadata": {},
   "outputs": [
    {
     "data": {
      "text/plain": [
       "array([[1, 1, 1, 2, 2, 2, 3, 3, 3],\n",
       "       [4, 4, 4, 5, 5, 5, 6, 6, 6]])"
      ]
     },
     "execution_count": 107,
     "metadata": {},
     "output_type": "execute_result"
    }
   ],
   "source": [
    "r1=np.repeat(arr,3,axis=1)\n",
    "r1"
   ]
  },
  {
   "cell_type": "code",
   "execution_count": 111,
   "id": "3bdc550a-cd98-48b0-b44c-3224c993da1b",
   "metadata": {},
   "outputs": [
    {
     "data": {
      "text/plain": [
       "array([[1., 1., 1., 1., 1.],\n",
       "       [1., 0., 0., 0., 1.],\n",
       "       [1., 0., 9., 0., 1.],\n",
       "       [1., 0., 0., 0., 1.],\n",
       "       [1., 1., 1., 1., 1.]])"
      ]
     },
     "execution_count": 111,
     "metadata": {},
     "output_type": "execute_result"
    }
   ],
   "source": [
    "x=np.ones((5,5))\n",
    "x[1:4,1:4]=0\n",
    "x[2,2]=9\n",
    "x"
   ]
  },
  {
   "cell_type": "code",
   "execution_count": 112,
   "id": "42d822f2-4d99-48c8-9987-31310c3283f9",
   "metadata": {},
   "outputs": [
    {
     "name": "stdout",
     "output_type": "stream",
     "text": [
      "[1 2 3] [1 2 3]\n"
     ]
    }
   ],
   "source": [
    "#coping\n",
    "\n",
    "a=np.array([1,2,3])\n",
    "b=a\n",
    "print(a,b)"
   ]
  },
  {
   "cell_type": "code",
   "execution_count": 113,
   "id": "e6ac596c-560a-44ec-9140-773c8a072a60",
   "metadata": {},
   "outputs": [
    {
     "data": {
      "text/plain": [
       "(array([99,  2,  3]), array([99,  2,  3]))"
      ]
     },
     "execution_count": 113,
     "metadata": {},
     "output_type": "execute_result"
    }
   ],
   "source": [
    "b[0]=99\n",
    "a,b"
   ]
  },
  {
   "cell_type": "code",
   "execution_count": 114,
   "id": "cc383979-0ccc-4a3f-bcc4-ee17996db8f9",
   "metadata": {},
   "outputs": [
    {
     "data": {
      "text/plain": [
       "(array([99,  2,  3]), array([99,  2,  3]))"
      ]
     },
     "execution_count": 114,
     "metadata": {},
     "output_type": "execute_result"
    }
   ],
   "source": [
    "c=a.copy()\n",
    "c,a"
   ]
  },
  {
   "cell_type": "code",
   "execution_count": 115,
   "id": "4ca303b5-07cd-4fcf-901e-9519dceabb32",
   "metadata": {},
   "outputs": [
    {
     "data": {
      "text/plain": [
       "(array([1, 2, 3]), array([99,  2,  3]))"
      ]
     },
     "execution_count": 115,
     "metadata": {},
     "output_type": "execute_result"
    }
   ],
   "source": [
    "c[0]=1\n",
    "c,a"
   ]
  },
  {
   "cell_type": "code",
   "execution_count": 116,
   "id": "798716b0-06e8-400b-b846-0d8fb14a0e4a",
   "metadata": {},
   "outputs": [
    {
     "data": {
      "text/plain": [
       "array([99,  2,  3])"
      ]
     },
     "execution_count": 116,
     "metadata": {},
     "output_type": "execute_result"
    }
   ],
   "source": [
    "a"
   ]
  },
  {
   "cell_type": "code",
   "execution_count": 123,
   "id": "da2d519c-4e84-40bc-bd25-4d5881736d4a",
   "metadata": {},
   "outputs": [
    {
     "data": {
      "text/plain": [
       "(array([101,   4,   5]),\n",
       " array([97,  0,  1]),\n",
       " array([198,   4,   6]),\n",
       " array([49.5,  1. ,  1.5]),\n",
       " array([49,  1,  1], dtype=int32),\n",
       " array([9801,    4,    9]),\n",
       " array([1, 0, 1], dtype=int32))"
      ]
     },
     "execution_count": 123,
     "metadata": {},
     "output_type": "execute_result"
    }
   ],
   "source": [
    "a+2,a-2,a*2,a/2,a//2,a**2,a%2"
   ]
  },
  {
   "cell_type": "code",
   "execution_count": 124,
   "id": "57c26306-4d0f-4db1-9976-93e2cb7501bb",
   "metadata": {},
   "outputs": [
    {
     "data": {
      "text/plain": [
       "(array([99,  2,  3]), array([99,  2,  3]))"
      ]
     },
     "execution_count": 124,
     "metadata": {},
     "output_type": "execute_result"
    }
   ],
   "source": [
    "a,b"
   ]
  },
  {
   "cell_type": "code",
   "execution_count": 130,
   "id": "9851c392-20ad-46a1-8628-d7b4519c66aa",
   "metadata": {},
   "outputs": [
    {
     "data": {
      "text/plain": [
       "(array([198,   4,   6]),\n",
       " array([0, 0, 0]),\n",
       " array([9801,    4,    9]),\n",
       " array([1., 1., 1.]),\n",
       " array([1, 1, 1]),\n",
       " array([-1250178885,           4,          27]))"
      ]
     },
     "execution_count": 130,
     "metadata": {},
     "output_type": "execute_result"
    }
   ],
   "source": [
    "a+b,a-b,a*b,a/b,a//b,a**b"
   ]
  },
  {
   "cell_type": "code",
   "execution_count": 140,
   "id": "6b24ae13-e3bf-4f96-a84c-a1990515d19e",
   "metadata": {},
   "outputs": [
    {
     "data": {
      "text/plain": [
       "(dtype('int32'), dtype('int32'))"
      ]
     },
     "execution_count": 140,
     "metadata": {},
     "output_type": "execute_result"
    }
   ],
   "source": [
    "a.dtype,b.dtype"
   ]
  },
  {
   "cell_type": "code",
   "execution_count": 145,
   "id": "e626a7ec-c556-43b9-9e6a-a7d2e6dc3ce7",
   "metadata": {},
   "outputs": [],
   "source": [
    "a1=a.astype('float64')\n",
    "b1=b.astype('float64')"
   ]
  },
  {
   "cell_type": "code",
   "execution_count": 146,
   "id": "29e47456-1d5a-4412-a79a-2926ca427f68",
   "metadata": {},
   "outputs": [
    {
     "data": {
      "text/plain": [
       "(array([99.,  2.,  3.]), array([99.,  2.,  3.]))"
      ]
     },
     "execution_count": 146,
     "metadata": {},
     "output_type": "execute_result"
    }
   ],
   "source": [
    "a1,b1"
   ]
  },
  {
   "cell_type": "code",
   "execution_count": 147,
   "id": "9d9159c7-e53f-4ee3-bebf-faf9fc455828",
   "metadata": {},
   "outputs": [
    {
     "data": {
      "text/plain": [
       "array([3.69729638e+197, 4.00000000e+000, 2.70000000e+001])"
      ]
     },
     "execution_count": 147,
     "metadata": {},
     "output_type": "execute_result"
    }
   ],
   "source": [
    "a1**b1"
   ]
  },
  {
   "cell_type": "code",
   "execution_count": 148,
   "id": "7fe763e3-fcae-4028-be97-3a70b04afe34",
   "metadata": {},
   "outputs": [
    {
     "data": {
      "text/plain": [
       "array([-0.99920683,  0.90929743,  0.14112001])"
      ]
     },
     "execution_count": 148,
     "metadata": {},
     "output_type": "execute_result"
    }
   ],
   "source": [
    "np.sin(a)"
   ]
  },
  {
   "cell_type": "code",
   "execution_count": 149,
   "id": "1a23f801-8991-42a2-939e-879eb685ac03",
   "metadata": {},
   "outputs": [
    {
     "data": {
      "text/plain": [
       "array([-25.09253498,  -2.18503986,  -0.14254654])"
      ]
     },
     "execution_count": 149,
     "metadata": {},
     "output_type": "execute_result"
    }
   ],
   "source": [
    "np.tan(a)"
   ]
  },
  {
   "cell_type": "markdown",
   "id": "3079e3a4-f918-4e0e-933e-5906cb75a42b",
   "metadata": {},
   "source": [
    "Linear algebra"
   ]
  },
  {
   "cell_type": "code",
   "execution_count": 154,
   "id": "dadbcf70-e7b9-4005-aff8-2c43e8ebb4cd",
   "metadata": {},
   "outputs": [
    {
     "name": "stdout",
     "output_type": "stream",
     "text": [
      "[[8 8 6]\n",
      " [5 1 6]]\n",
      "[[9 3]\n",
      " [2 6]\n",
      " [4 8]]\n"
     ]
    }
   ],
   "source": [
    "a=np.random.randint(1,10,size=(2,3))\n",
    "print(a)\n",
    "\n",
    "b=np.random.randint(1,10,size=(3,2))\n",
    "print(b)"
   ]
  },
  {
   "cell_type": "code",
   "execution_count": 155,
   "id": "60841a2a-6f54-4061-a914-221c63fdac88",
   "metadata": {},
   "outputs": [
    {
     "data": {
      "text/plain": [
       "array([[112, 120],\n",
       "       [ 71,  69]])"
      ]
     },
     "execution_count": 155,
     "metadata": {},
     "output_type": "execute_result"
    }
   ],
   "source": [
    "np.matmul(a,b)"
   ]
  },
  {
   "cell_type": "code",
   "execution_count": 158,
   "id": "3f35c238-ec7b-4476-9924-d16b6a41989d",
   "metadata": {},
   "outputs": [
    {
     "data": {
      "text/plain": [
       "(array([[1., 0., 0.],\n",
       "        [0., 1., 0.],\n",
       "        [0., 0., 1.]]),\n",
       " 1.0)"
      ]
     },
     "execution_count": 158,
     "metadata": {},
     "output_type": "execute_result"
    }
   ],
   "source": [
    "#find determinant\n",
    "x=np.eye(3)\n",
    "x,np.linalg.det(x)"
   ]
  },
  {
   "cell_type": "code",
   "execution_count": 159,
   "id": "5035b67f-473b-46fc-bfe4-34214e78df60",
   "metadata": {},
   "outputs": [
    {
     "data": {
      "text/plain": [
       "array([[2, 3, 3],\n",
       "       [5, 2, 8],\n",
       "       [2, 1, 4]])"
      ]
     },
     "execution_count": 159,
     "metadata": {},
     "output_type": "execute_result"
    }
   ],
   "source": [
    "c=np.random.randint(1,10,size=(3,3))\n",
    "c"
   ]
  },
  {
   "cell_type": "code",
   "execution_count": 160,
   "id": "95289bf7-c0eb-45b7-ab24-aad58420c55c",
   "metadata": {},
   "outputs": [
    {
     "data": {
      "text/plain": [
       "-8.999999999999998"
      ]
     },
     "execution_count": 160,
     "metadata": {},
     "output_type": "execute_result"
    }
   ],
   "source": [
    "np.linalg.det(c)"
   ]
  },
  {
   "cell_type": "code",
   "execution_count": 161,
   "id": "1644945f-a105-4772-a2e3-a12f7437d69c",
   "metadata": {},
   "outputs": [
    {
     "data": {
      "text/plain": [
       "array([[2, 3, 3],\n",
       "       [5, 2, 8],\n",
       "       [2, 1, 4]])"
      ]
     },
     "execution_count": 161,
     "metadata": {},
     "output_type": "execute_result"
    }
   ],
   "source": [
    "c"
   ]
  },
  {
   "cell_type": "code",
   "execution_count": 162,
   "id": "0abb8f25-a7fa-4f2d-9714-10bf0719181d",
   "metadata": {},
   "outputs": [
    {
     "data": {
      "text/plain": [
       "array([[2, 5, 2],\n",
       "       [3, 2, 1],\n",
       "       [3, 8, 4]])"
      ]
     },
     "execution_count": 162,
     "metadata": {},
     "output_type": "execute_result"
    }
   ],
   "source": [
    "c.T"
   ]
  },
  {
   "cell_type": "code",
   "execution_count": 163,
   "id": "a4908bc9-41c2-4c5f-ae7d-d54bd3782fe1",
   "metadata": {},
   "outputs": [
    {
     "data": {
      "text/plain": [
       "array([[8, 8, 6],\n",
       "       [5, 1, 6]])"
      ]
     },
     "execution_count": 163,
     "metadata": {},
     "output_type": "execute_result"
    }
   ],
   "source": [
    "a"
   ]
  },
  {
   "cell_type": "code",
   "execution_count": 164,
   "id": "b66c195d-b92f-44de-9247-b64e72f573ba",
   "metadata": {},
   "outputs": [
    {
     "data": {
      "text/plain": [
       "array([[8, 5],\n",
       "       [8, 1],\n",
       "       [6, 6]])"
      ]
     },
     "execution_count": 164,
     "metadata": {},
     "output_type": "execute_result"
    }
   ],
   "source": [
    "a.T"
   ]
  },
  {
   "cell_type": "code",
   "execution_count": 165,
   "id": "0fbfda9e-ec19-4d39-9842-7633ab728bdb",
   "metadata": {},
   "outputs": [
    {
     "data": {
      "text/plain": [
       "array([[8, 8, 6],\n",
       "       [5, 1, 6]])"
      ]
     },
     "execution_count": 165,
     "metadata": {},
     "output_type": "execute_result"
    }
   ],
   "source": [
    "#statistics\n",
    "a"
   ]
  },
  {
   "cell_type": "code",
   "execution_count": 173,
   "id": "63c003d4-434c-43c1-9f31-7ea3e79743b1",
   "metadata": {},
   "outputs": [
    {
     "data": {
      "text/plain": [
       "(5.666666666666667, 6.0)"
      ]
     },
     "execution_count": 173,
     "metadata": {},
     "output_type": "execute_result"
    }
   ],
   "source": [
    "np.mean(a),np.median(a)"
   ]
  },
  {
   "cell_type": "code",
   "execution_count": 167,
   "id": "09c4288f-244a-44ab-aae9-b446e5339057",
   "metadata": {},
   "outputs": [
    {
     "data": {
      "text/plain": [
       "8"
      ]
     },
     "execution_count": 167,
     "metadata": {},
     "output_type": "execute_result"
    }
   ],
   "source": [
    "np.max(a)"
   ]
  },
  {
   "cell_type": "code",
   "execution_count": 170,
   "id": "03a3b4ed-d528-47df-8c54-ae6ae14f96b8",
   "metadata": {},
   "outputs": [
    {
     "data": {
      "text/plain": [
       "array([6, 1])"
      ]
     },
     "execution_count": 170,
     "metadata": {},
     "output_type": "execute_result"
    }
   ],
   "source": [
    "np.min(a,axis=1)"
   ]
  },
  {
   "cell_type": "code",
   "execution_count": 178,
   "id": "7fefe46b-5f02-41f7-a7bc-82223d0fbbb1",
   "metadata": {},
   "outputs": [
    {
     "data": {
      "text/plain": [
       "(34, array([13,  9, 12]))"
      ]
     },
     "execution_count": 178,
     "metadata": {},
     "output_type": "execute_result"
    }
   ],
   "source": [
    "np.sum(a),np.sum(a,axis=0)"
   ]
  },
  {
   "cell_type": "code",
   "execution_count": 179,
   "id": "0b5a06eb-3584-4e3a-8ddf-c24d924f76bb",
   "metadata": {},
   "outputs": [
    {
     "data": {
      "text/plain": [
       "array([6.5, 4.5, 6. ])"
      ]
     },
     "execution_count": 179,
     "metadata": {},
     "output_type": "execute_result"
    }
   ],
   "source": [
    "np.average(a,axis=0)"
   ]
  },
  {
   "cell_type": "code",
   "execution_count": 180,
   "id": "ea0339ec-c8b1-46e0-8fc8-49572c2fadad",
   "metadata": {},
   "outputs": [
    {
     "data": {
      "text/plain": [
       "array([[8, 8, 6],\n",
       "       [5, 1, 6]])"
      ]
     },
     "execution_count": 180,
     "metadata": {},
     "output_type": "execute_result"
    }
   ],
   "source": [
    "#rearrange array\n",
    "\n",
    "a"
   ]
  },
  {
   "cell_type": "code",
   "execution_count": 182,
   "id": "38651525-69c3-4437-a0f5-6db3b66efb52",
   "metadata": {},
   "outputs": [
    {
     "data": {
      "text/plain": [
       "array([[8, 8],\n",
       "       [6, 5],\n",
       "       [1, 6]])"
      ]
     },
     "execution_count": 182,
     "metadata": {},
     "output_type": "execute_result"
    }
   ],
   "source": [
    "a.reshape((3,2))"
   ]
  },
  {
   "cell_type": "code",
   "execution_count": 184,
   "id": "48943c95-85cf-425f-8d6c-74287b19494c",
   "metadata": {},
   "outputs": [
    {
     "data": {
      "text/plain": [
       "(array([[8, 8, 6, 5, 1, 6]]),\n",
       " array([[8],\n",
       "        [8],\n",
       "        [6],\n",
       "        [5],\n",
       "        [1],\n",
       "        [6]]))"
      ]
     },
     "execution_count": 184,
     "metadata": {},
     "output_type": "execute_result"
    }
   ],
   "source": [
    "a.reshape((1,6)),a.reshape((6,1))"
   ]
  },
  {
   "cell_type": "code",
   "execution_count": 186,
   "id": "6059bf67-4c45-476f-980f-06cfda00609a",
   "metadata": {},
   "outputs": [
    {
     "data": {
      "text/plain": [
       "array([[[8, 8, 6]],\n",
       "\n",
       "       [[5, 1, 6]]])"
      ]
     },
     "execution_count": 186,
     "metadata": {},
     "output_type": "execute_result"
    }
   ],
   "source": [
    "a.reshape((2,1,3))"
   ]
  },
  {
   "cell_type": "code",
   "execution_count": 189,
   "id": "e676f070-f9a8-4b8a-a239-ed3c1545f868",
   "metadata": {},
   "outputs": [
    {
     "data": {
      "text/plain": [
       "array([[1, 2, 3, 4],\n",
       "       [9, 8, 7, 6],\n",
       "       [1, 2, 3, 4]])"
      ]
     },
     "execution_count": 189,
     "metadata": {},
     "output_type": "execute_result"
    }
   ],
   "source": [
    "#vertically stacking vectors\n",
    "v1=np.array([1,2,3,4])\n",
    "v2=np.array([9,8,7,6])\n",
    "\n",
    "np.vstack([v1,v2,v1])"
   ]
  },
  {
   "cell_type": "code",
   "execution_count": 190,
   "id": "c188b200-7141-448e-b286-4ba9188a789d",
   "metadata": {},
   "outputs": [
    {
     "data": {
      "text/plain": [
       "(array([[1., 1., 1., 1.],\n",
       "        [1., 1., 1., 1.]]),\n",
       " array([[0., 0.],\n",
       "        [0., 0.]]))"
      ]
     },
     "execution_count": 190,
     "metadata": {},
     "output_type": "execute_result"
    }
   ],
   "source": [
    "#horizontal stack\n",
    "\n",
    "h1=np.ones((2,4))\n",
    "h2=np.zeros((2,2))\n",
    "\n",
    "h1,h2"
   ]
  },
  {
   "cell_type": "code",
   "execution_count": 193,
   "id": "8e54dfde-f65c-40b7-acad-b970cbaae868",
   "metadata": {},
   "outputs": [
    {
     "data": {
      "text/plain": [
       "array([[0., 0., 1., 1., 1., 1., 0., 0.],\n",
       "       [0., 0., 1., 1., 1., 1., 0., 0.]])"
      ]
     },
     "execution_count": 193,
     "metadata": {},
     "output_type": "execute_result"
    }
   ],
   "source": [
    "np.hstack((h2,h1,h2))"
   ]
  },
  {
   "cell_type": "code",
   "execution_count": 194,
   "id": "821a964c-3f0a-4120-afbc-ee6175702986",
   "metadata": {},
   "outputs": [
    {
     "data": {
      "text/plain": [
       "(array([[1., 1., 1., 1.],\n",
       "        [1., 1., 1., 1.]]),\n",
       " array([[0., 0., 0., 0.]]))"
      ]
     },
     "execution_count": 194,
     "metadata": {},
     "output_type": "execute_result"
    }
   ],
   "source": [
    "h1=np.ones((2,4))\n",
    "h2=np.zeros((1,4))\n",
    "h1,h2"
   ]
  },
  {
   "cell_type": "code",
   "execution_count": 195,
   "id": "0f156b67-9047-4163-a89a-68d5b1fb30b0",
   "metadata": {},
   "outputs": [
    {
     "data": {
      "text/plain": [
       "array([[1., 1., 1., 1.],\n",
       "       [1., 1., 1., 1.],\n",
       "       [0., 0., 0., 0.]])"
      ]
     },
     "execution_count": 195,
     "metadata": {},
     "output_type": "execute_result"
    }
   ],
   "source": [
    "np.vstack((h1,h2))"
   ]
  },
  {
   "cell_type": "code",
   "execution_count": 196,
   "id": "73369dce-e784-4677-84b0-ccf58dd212f5",
   "metadata": {},
   "outputs": [
    {
     "data": {
      "text/plain": [
       "array([[8, 8, 6],\n",
       "       [5, 1, 6]])"
      ]
     },
     "execution_count": 196,
     "metadata": {},
     "output_type": "execute_result"
    }
   ],
   "source": [
    "a"
   ]
  },
  {
   "cell_type": "code",
   "execution_count": 197,
   "id": "3f2967c1-be05-42d8-bfd8-49d13914980d",
   "metadata": {},
   "outputs": [
    {
     "data": {
      "text/plain": [
       "array([[ True,  True,  True],\n",
       "       [False, False,  True]])"
      ]
     },
     "execution_count": 197,
     "metadata": {},
     "output_type": "execute_result"
    }
   ],
   "source": [
    "a>=6"
   ]
  },
  {
   "cell_type": "code",
   "execution_count": 198,
   "id": "863fed1c-d3d6-43ee-958c-bec9e19e9741",
   "metadata": {},
   "outputs": [
    {
     "data": {
      "text/plain": [
       "array([[False, False,  True],\n",
       "       [False, False,  True]])"
      ]
     },
     "execution_count": 198,
     "metadata": {},
     "output_type": "execute_result"
    }
   ],
   "source": [
    "a==6"
   ]
  },
  {
   "cell_type": "code",
   "execution_count": 199,
   "id": "fc7a2c1c-154e-4d6d-82b4-52a5bf84fcb2",
   "metadata": {},
   "outputs": [
    {
     "data": {
      "text/plain": [
       "array([6, 6])"
      ]
     },
     "execution_count": 199,
     "metadata": {},
     "output_type": "execute_result"
    }
   ],
   "source": [
    "a[a==6]"
   ]
  },
  {
   "cell_type": "code",
   "execution_count": 200,
   "id": "9c21235c-7311-408b-9457-f8ea80c9652e",
   "metadata": {},
   "outputs": [
    {
     "data": {
      "text/plain": [
       "array([8, 8, 6, 6])"
      ]
     },
     "execution_count": 200,
     "metadata": {},
     "output_type": "execute_result"
    }
   ],
   "source": [
    "a[a>=6]"
   ]
  },
  {
   "cell_type": "code",
   "execution_count": 201,
   "id": "49c106a4-62dd-443f-a979-cf5f98b5de1f",
   "metadata": {},
   "outputs": [
    {
     "data": {
      "text/plain": [
       "array([[8, 8, 6],\n",
       "       [5, 1, 6]])"
      ]
     },
     "execution_count": 201,
     "metadata": {},
     "output_type": "execute_result"
    }
   ],
   "source": [
    "a"
   ]
  },
  {
   "cell_type": "code",
   "execution_count": null,
   "id": "0caf084e-5fb9-4451-ac84-863afd845b1a",
   "metadata": {},
   "outputs": [],
   "source": []
  },
  {
   "cell_type": "code",
   "execution_count": 218,
   "id": "c8bf7133-f60c-4f88-9a4b-5f1e798e1484",
   "metadata": {},
   "outputs": [
    {
     "data": {
      "text/plain": [
       "True"
      ]
     },
     "execution_count": 218,
     "metadata": {},
     "output_type": "execute_result"
    }
   ],
   "source": [
    "np.any(a>6)"
   ]
  },
  {
   "cell_type": "code",
   "execution_count": 219,
   "id": "bb054801-d920-44af-aeb0-552730d1f652",
   "metadata": {},
   "outputs": [
    {
     "data": {
      "text/plain": [
       "False"
      ]
     },
     "execution_count": 219,
     "metadata": {},
     "output_type": "execute_result"
    }
   ],
   "source": [
    "np.all(a>6)"
   ]
  },
  {
   "cell_type": "code",
   "execution_count": 222,
   "id": "9970ad6e-0cac-4435-b711-f68d5be743a8",
   "metadata": {},
   "outputs": [
    {
     "data": {
      "text/plain": [
       "array([ True,  True, False])"
      ]
     },
     "execution_count": 222,
     "metadata": {},
     "output_type": "execute_result"
    }
   ],
   "source": [
    "np.any(a>6,axis=0)"
   ]
  },
  {
   "cell_type": "code",
   "execution_count": 223,
   "id": "82ba83f6-41ec-4430-8ed5-ea59fe436102",
   "metadata": {},
   "outputs": [
    {
     "data": {
      "text/plain": [
       "array([ True, False])"
      ]
     },
     "execution_count": 223,
     "metadata": {},
     "output_type": "execute_result"
    }
   ],
   "source": [
    "np.any(a>6,axis=1)"
   ]
  },
  {
   "cell_type": "code",
   "execution_count": 224,
   "id": "530e38ad-ab81-42cf-ac3b-7ab2da6a3d26",
   "metadata": {},
   "outputs": [
    {
     "data": {
      "text/plain": [
       "array([[8, 8, 6],\n",
       "       [5, 1, 6]])"
      ]
     },
     "execution_count": 224,
     "metadata": {},
     "output_type": "execute_result"
    }
   ],
   "source": [
    "a"
   ]
  },
  {
   "cell_type": "code",
   "execution_count": 228,
   "id": "4c5053f3-f5e4-4a6d-ad92-c969ade21185",
   "metadata": {},
   "outputs": [
    {
     "data": {
      "text/plain": [
       "array([[False, False,  True],\n",
       "       [ True, False,  True]])"
      ]
     },
     "execution_count": 228,
     "metadata": {},
     "output_type": "execute_result"
    }
   ],
   "source": [
    "(a>4) & (a<8)"
   ]
  },
  {
   "cell_type": "code",
   "execution_count": 230,
   "id": "1bd65540-a9cf-4f46-9516-d1f1cf3160be",
   "metadata": {},
   "outputs": [
    {
     "data": {
      "text/plain": [
       "array([[ True,  True, False],\n",
       "       [False,  True, False]])"
      ]
     },
     "execution_count": 230,
     "metadata": {},
     "output_type": "execute_result"
    }
   ],
   "source": [
    "~((a>4) & (a<8))"
   ]
  },
  {
   "cell_type": "code",
   "execution_count": 229,
   "id": "3f5e74bd-c35a-4cb0-8655-a8fa15fbccc8",
   "metadata": {},
   "outputs": [
    {
     "data": {
      "text/plain": [
       "array([6, 5, 6])"
      ]
     },
     "execution_count": 229,
     "metadata": {},
     "output_type": "execute_result"
    }
   ],
   "source": [
    "a[(a>4) & (a<8)]"
   ]
  },
  {
   "cell_type": "code",
   "execution_count": 231,
   "id": "4fbf1fc4-5f33-40a6-8bee-f9b2472f2029",
   "metadata": {},
   "outputs": [
    {
     "data": {
      "text/plain": [
       "array([8, 8, 1])"
      ]
     },
     "execution_count": 231,
     "metadata": {},
     "output_type": "execute_result"
    }
   ],
   "source": [
    "a[~((a>4) & (a<8))]"
   ]
  },
  {
   "cell_type": "code",
   "execution_count": 232,
   "id": "c95ad4f4-dd3e-45e7-955d-7d6da96de0b1",
   "metadata": {},
   "outputs": [
    {
     "data": {
      "text/plain": [
       "array([[8, 8, 6],\n",
       "       [5, 1, 6]])"
      ]
     },
     "execution_count": 232,
     "metadata": {},
     "output_type": "execute_result"
    }
   ],
   "source": [
    "a"
   ]
  },
  {
   "cell_type": "code",
   "execution_count": 235,
   "id": "dcb6ff56-e6f6-47ea-933f-f2c144c3ac13",
   "metadata": {},
   "outputs": [
    {
     "data": {
      "text/plain": [
       "array([8, 1])"
      ]
     },
     "execution_count": 235,
     "metadata": {},
     "output_type": "execute_result"
    }
   ],
   "source": [
    "a.diagonal()"
   ]
  },
  {
   "cell_type": "code",
   "execution_count": 236,
   "id": "9df0cdf6-0973-48cd-9e34-706453bec2da",
   "metadata": {},
   "outputs": [],
   "source": [
    "a=np.random.randint(1,31,size=(6,5))"
   ]
  },
  {
   "cell_type": "code",
   "execution_count": 237,
   "id": "a6f737f1-5e81-4c58-8891-57b46aebec72",
   "metadata": {},
   "outputs": [
    {
     "data": {
      "text/plain": [
       "array([[ 1, 30,  5, 14, 22],\n",
       "       [ 9, 30,  8, 20, 12],\n",
       "       [13, 28,  1, 28, 21],\n",
       "       [15, 25, 20,  8, 19],\n",
       "       [20, 17, 12, 16, 25],\n",
       "       [16,  8, 28, 27, 29]])"
      ]
     },
     "execution_count": 237,
     "metadata": {},
     "output_type": "execute_result"
    }
   ],
   "source": [
    "a"
   ]
  },
  {
   "cell_type": "code",
   "execution_count": 238,
   "id": "86766eb3-11d5-46bf-917f-08e85493ef4f",
   "metadata": {},
   "outputs": [
    {
     "data": {
      "text/plain": [
       "array([30,  8, 28, 19])"
      ]
     },
     "execution_count": 238,
     "metadata": {},
     "output_type": "execute_result"
    }
   ],
   "source": [
    "a[:4,1:].diagonal()"
   ]
  },
  {
   "cell_type": "code",
   "execution_count": 239,
   "id": "7db6a1fa-296a-4b6f-b1b8-8e9b9a35ae74",
   "metadata": {},
   "outputs": [
    {
     "data": {
      "text/plain": [
       "array([30,  8, 28, 19])"
      ]
     },
     "execution_count": 239,
     "metadata": {},
     "output_type": "execute_result"
    }
   ],
   "source": [
    "a[[0,1,2,3],[1,2,3,4]]"
   ]
  },
  {
   "cell_type": "code",
   "execution_count": 240,
   "id": "30a43a16-df4d-4708-be25-757930099350",
   "metadata": {},
   "outputs": [
    {
     "data": {
      "text/plain": [
       "array([14, 22, 16, 25, 27, 29])"
      ]
     },
     "execution_count": 240,
     "metadata": {},
     "output_type": "execute_result"
    }
   ],
   "source": [
    "a[[0,0,4,4,5,5],[3,4,3,4,3,4]]"
   ]
  },
  {
   "cell_type": "code",
   "execution_count": null,
   "id": "5ce9a628-ca66-4bd2-b232-dcd73b6f3f65",
   "metadata": {},
   "outputs": [],
   "source": []
  }
 ],
 "metadata": {
  "kernelspec": {
   "display_name": "Python [conda env:base] *",
   "language": "python",
   "name": "conda-base-py"
  },
  "language_info": {
   "codemirror_mode": {
    "name": "ipython",
    "version": 3
   },
   "file_extension": ".py",
   "mimetype": "text/x-python",
   "name": "python",
   "nbconvert_exporter": "python",
   "pygments_lexer": "ipython3",
   "version": "3.12.7"
  },
  "panel-cell-order": [
   "6d025805-b535-4ab3-8e15-cffa96e063c2",
   "cc62d785-091b-46fa-b0c7-d4b3c4eed3fa",
   "62386826-54a0-421d-b4a8-2ddad1fa361e",
   "ff84e873-ebd7-4e71-816b-18f4be672be8",
   "3fa1a12f-05ce-44fa-ae79-c20c25a2b731"
  ]
 },
 "nbformat": 4,
 "nbformat_minor": 5
}
